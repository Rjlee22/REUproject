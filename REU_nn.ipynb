{
  "cells": [
    {
      "cell_type": "markdown",
      "metadata": {
        "id": "view-in-github",
        "colab_type": "text"
      },
      "source": [
        "<a href=\"https://colab.research.google.com/github/Rjlee22/REUproject/blob/main/REU_nn.ipynb\" target=\"_parent\"><img src=\"https://colab.research.google.com/assets/colab-badge.svg\" alt=\"Open In Colab\"/></a>"
      ]
    },
    {
      "cell_type": "code",
      "execution_count": null,
      "metadata": {
        "id": "xlsVSaawHNHK"
      },
      "outputs": [],
      "source": [
        "import pandas as pd\n",
        "import numpy as np\n",
        "import sys\n",
        "import os\n",
        "\n",
        "from sklearn.model_selection import train_test_split\n",
        "df = pd.read_csv('Microsoft_condensed.csv')"
      ]
    },
    {
      "cell_type": "code",
      "execution_count": null,
      "metadata": {
        "id": "ixY9_37C6uwe"
      },
      "outputs": [],
      "source": []
    },
    {
      "cell_type": "code",
      "execution_count": null,
      "metadata": {
        "id": "89sY1mrlgmDH"
      },
      "outputs": [],
      "source": []
    },
    {
      "cell_type": "code",
      "execution_count": null,
      "metadata": {
        "id": "SeZOlQhUPvht"
      },
      "outputs": [],
      "source": [
        "column_data_types = {'IsBeta' : 'Int8',\n",
        "                 'RtpStateBitfield' : 'Int16',\n",
        "                 'IsSxsPassiveMode' : 'Int8',\n",
        "                 'HasTpm' : 'Int8',\n",
        "                 'CountryIdentifier' : 'Int64',\n",
        "                 'CityIdentifier' : 'Int64',\n",
        "                 'OrganizationIdentifier' : 'Int64',\n",
        "                 'IsProtected' : 'Int8',\n",
        "                 'AutoSampleOptIn' : 'Int8',\n",
        "                 'SMode' : 'Int8',\n",
        "                 'Firewall' : 'Int8',\n",
        "                 'Census_HasOpticalDiskDrive' : 'Int8',\n",
        "                 'Census_IsPortableOperatingSystem' : 'Int8',\n",
        "                 'Census_IsFlightsDisabled' : 'Int8',\n",
        "                 'Census_IsSecureBootEnabled' : 'Int8',\n",
        "                 'Census_IsWIMBootEnabled' : 'Int8',\n",
        "                 'Census_IsVirtualDevice' : 'Int8',\n",
        "                 'Census_IsTouchEnabled' : 'Int8',\n",
        "                 'Census_IsPenCapable' : 'Int8',\n",
        "                 'Census_IsAlwaysOnAlwaysConnectedCapable': 'Int8',\n",
        "                 'Wdft_IsGamer' : 'Int8',\n",
        "                 'HasDetections' : 'int'}"
      ]
    },
    {
      "cell_type": "code",
      "execution_count": null,
      "metadata": {
        "id": "X-9c8kWYIzcd"
      },
      "outputs": [],
      "source": [
        "columns_to_ignore = ('DefaultBrowsersIdentifier',  # 95.14% NA values\n",
        "                     'PuaMode', # 99.97% NA values\n",
        "                     'Census_ProcessorClass', # 99.59% NA values.\n",
        "                     'Census_InternalBatteryType', # 71.05% NA values\n",
        "                     'Census_IsFlightingInternal', #83.04% NA values\n",
        "                     'Census_ThresholdOptIn', # 63.52% NA values\n",
        "\n",
        "                     # numerical features\n",
        "                     'Census_PrimaryDiskTotalCapacity',\n",
        "                     'Census_SystemVolumeTotalCapacity',\n",
        "                     'Census_TotalPhysicalRAM',\n",
        "                     'Census_InternalPrimaryDisplayResolutionHorizontal',\n",
        "                     'Census_InternalPrimaryDisplayResolutionVertical',\n",
        "                     'Census_InternalPrimaryDiagonalDisplaySizeInInches',\n",
        "                     'Census_InternalBatteryNumberOfCharges',\n",
        "\n",
        "                     'IsBeta',\n",
        "                     'AutoSampleOptIn',\n",
        "                     'UacLuaenable',\n",
        "                     'Census_IsWIMBootEnabled',\n",
        "\n",
        "                     'Census_FlightRing_not',\n",
        "                     'Census_IsAlwaysOnAlwaysConnectedCapable',\n",
        "                     'Census_IsSecureBootEnabled',\n",
        "                     'Census_IsTouchEnabled',\n",
        "                     'Census_IsVirtualDevice',\n",
        "                     'SMode'\n",
        "                    )"
      ]
    },
    {
      "cell_type": "code",
      "execution_count": null,
      "metadata": {
        "colab": {
          "base_uri": "https://localhost:8080/",
          "height": 256
        },
        "id": "_h6aqkcuPuxY",
        "outputId": "eb53497f-241c-4e7b-fc64-1ee414615efd"
      },
      "outputs": [
        {
          "output_type": "execute_result",
          "data": {
            "text/plain": [
              "                  MachineIdentifier   ProductName EngineVersion  \\\n",
              "0  f1cd864e97bae82bdf96523e1a539121  win8defender   1.1.15100.1   \n",
              "1  fd5ba6f5b75325ec0423a6c67cc75942  win8defender   1.1.15100.1   \n",
              "2  4e628391e7cc7c482fb3286f486dbd25  win8defender   1.1.15100.1   \n",
              "3  270a2e9d028144a4df12a9e3da79fba5  win8defender   1.1.15200.1   \n",
              "4  06ca8fa8d32c2abdc5b3577d676b3269  win8defender   1.1.15200.1   \n",
              "\n",
              "        AppVersion  AvSigVersion  RtpStateBitfield  IsSxsPassiveMode  \\\n",
              "0  4.18.1807.18075  1.273.1234.0                 7                 0   \n",
              "1  4.18.1807.18075  1.273.1282.0                 7                 0   \n",
              "2   4.9.10586.1106   1.273.781.0                 7                 0   \n",
              "3  4.18.1807.18075  1.275.1639.0                 7                 0   \n",
              "4  4.18.1807.18075   1.275.511.0                 7                 0   \n",
              "\n",
              "   AVProductStatesIdentifier  AVProductsInstalled  AVProductsEnabled  ...  \\\n",
              "0                    53447.0                  1.0                1.0  ...   \n",
              "1                    53447.0                  1.0                1.0  ...   \n",
              "2                    46781.0                  2.0                1.0  ...   \n",
              "3                    53447.0                  1.0                1.0  ...   \n",
              "4                    47238.0                  2.0                1.0  ...   \n",
              "\n",
              "   Census_GenuineStateName  Census_ActivationChannel  \\\n",
              "0               IS_GENUINE                    OEM:DM   \n",
              "1               IS_GENUINE                    OEM:DM   \n",
              "2               IS_GENUINE                    Retail   \n",
              "3               IS_GENUINE                    Retail   \n",
              "4               IS_GENUINE                    OEM:DM   \n",
              "\n",
              "   Census_IsFlightsDisabled  Census_FlightRing  \\\n",
              "0                         0             Retail   \n",
              "1                         0             Retail   \n",
              "2                         0             Retail   \n",
              "3                         0             Retail   \n",
              "4                         0             Retail   \n",
              "\n",
              "   Census_FirmwareManufacturerIdentifier  Census_FirmwareVersionIdentifier  \\\n",
              "0                                  355.0                           19951.0   \n",
              "1                                  486.0                           48753.0   \n",
              "2                                  554.0                           33111.0   \n",
              "3                                  142.0                           48473.0   \n",
              "4                                  355.0                            4343.0   \n",
              "\n",
              "  Census_IsPenCapable Wdft_IsGamer Wdft_RegionIdentifier  HasDetections  \n",
              "0                   0            0                  11.0              1  \n",
              "1                   0            1                   3.0              0  \n",
              "2                   1            0                  15.0              0  \n",
              "3                   0            0                  15.0              1  \n",
              "4                   0            1                  13.0              1  \n",
              "\n",
              "[5 rows x 61 columns]"
            ],
            "text/html": [
              "\n",
              "  <div id=\"df-f52bdccb-b4a5-49d3-9a63-2a726df0c054\" class=\"colab-df-container\">\n",
              "    <div>\n",
              "<style scoped>\n",
              "    .dataframe tbody tr th:only-of-type {\n",
              "        vertical-align: middle;\n",
              "    }\n",
              "\n",
              "    .dataframe tbody tr th {\n",
              "        vertical-align: top;\n",
              "    }\n",
              "\n",
              "    .dataframe thead th {\n",
              "        text-align: right;\n",
              "    }\n",
              "</style>\n",
              "<table border=\"1\" class=\"dataframe\">\n",
              "  <thead>\n",
              "    <tr style=\"text-align: right;\">\n",
              "      <th></th>\n",
              "      <th>MachineIdentifier</th>\n",
              "      <th>ProductName</th>\n",
              "      <th>EngineVersion</th>\n",
              "      <th>AppVersion</th>\n",
              "      <th>AvSigVersion</th>\n",
              "      <th>RtpStateBitfield</th>\n",
              "      <th>IsSxsPassiveMode</th>\n",
              "      <th>AVProductStatesIdentifier</th>\n",
              "      <th>AVProductsInstalled</th>\n",
              "      <th>AVProductsEnabled</th>\n",
              "      <th>...</th>\n",
              "      <th>Census_GenuineStateName</th>\n",
              "      <th>Census_ActivationChannel</th>\n",
              "      <th>Census_IsFlightsDisabled</th>\n",
              "      <th>Census_FlightRing</th>\n",
              "      <th>Census_FirmwareManufacturerIdentifier</th>\n",
              "      <th>Census_FirmwareVersionIdentifier</th>\n",
              "      <th>Census_IsPenCapable</th>\n",
              "      <th>Wdft_IsGamer</th>\n",
              "      <th>Wdft_RegionIdentifier</th>\n",
              "      <th>HasDetections</th>\n",
              "    </tr>\n",
              "  </thead>\n",
              "  <tbody>\n",
              "    <tr>\n",
              "      <th>0</th>\n",
              "      <td>f1cd864e97bae82bdf96523e1a539121</td>\n",
              "      <td>win8defender</td>\n",
              "      <td>1.1.15100.1</td>\n",
              "      <td>4.18.1807.18075</td>\n",
              "      <td>1.273.1234.0</td>\n",
              "      <td>7</td>\n",
              "      <td>0</td>\n",
              "      <td>53447.0</td>\n",
              "      <td>1.0</td>\n",
              "      <td>1.0</td>\n",
              "      <td>...</td>\n",
              "      <td>IS_GENUINE</td>\n",
              "      <td>OEM:DM</td>\n",
              "      <td>0</td>\n",
              "      <td>Retail</td>\n",
              "      <td>355.0</td>\n",
              "      <td>19951.0</td>\n",
              "      <td>0</td>\n",
              "      <td>0</td>\n",
              "      <td>11.0</td>\n",
              "      <td>1</td>\n",
              "    </tr>\n",
              "    <tr>\n",
              "      <th>1</th>\n",
              "      <td>fd5ba6f5b75325ec0423a6c67cc75942</td>\n",
              "      <td>win8defender</td>\n",
              "      <td>1.1.15100.1</td>\n",
              "      <td>4.18.1807.18075</td>\n",
              "      <td>1.273.1282.0</td>\n",
              "      <td>7</td>\n",
              "      <td>0</td>\n",
              "      <td>53447.0</td>\n",
              "      <td>1.0</td>\n",
              "      <td>1.0</td>\n",
              "      <td>...</td>\n",
              "      <td>IS_GENUINE</td>\n",
              "      <td>OEM:DM</td>\n",
              "      <td>0</td>\n",
              "      <td>Retail</td>\n",
              "      <td>486.0</td>\n",
              "      <td>48753.0</td>\n",
              "      <td>0</td>\n",
              "      <td>1</td>\n",
              "      <td>3.0</td>\n",
              "      <td>0</td>\n",
              "    </tr>\n",
              "    <tr>\n",
              "      <th>2</th>\n",
              "      <td>4e628391e7cc7c482fb3286f486dbd25</td>\n",
              "      <td>win8defender</td>\n",
              "      <td>1.1.15100.1</td>\n",
              "      <td>4.9.10586.1106</td>\n",
              "      <td>1.273.781.0</td>\n",
              "      <td>7</td>\n",
              "      <td>0</td>\n",
              "      <td>46781.0</td>\n",
              "      <td>2.0</td>\n",
              "      <td>1.0</td>\n",
              "      <td>...</td>\n",
              "      <td>IS_GENUINE</td>\n",
              "      <td>Retail</td>\n",
              "      <td>0</td>\n",
              "      <td>Retail</td>\n",
              "      <td>554.0</td>\n",
              "      <td>33111.0</td>\n",
              "      <td>1</td>\n",
              "      <td>0</td>\n",
              "      <td>15.0</td>\n",
              "      <td>0</td>\n",
              "    </tr>\n",
              "    <tr>\n",
              "      <th>3</th>\n",
              "      <td>270a2e9d028144a4df12a9e3da79fba5</td>\n",
              "      <td>win8defender</td>\n",
              "      <td>1.1.15200.1</td>\n",
              "      <td>4.18.1807.18075</td>\n",
              "      <td>1.275.1639.0</td>\n",
              "      <td>7</td>\n",
              "      <td>0</td>\n",
              "      <td>53447.0</td>\n",
              "      <td>1.0</td>\n",
              "      <td>1.0</td>\n",
              "      <td>...</td>\n",
              "      <td>IS_GENUINE</td>\n",
              "      <td>Retail</td>\n",
              "      <td>0</td>\n",
              "      <td>Retail</td>\n",
              "      <td>142.0</td>\n",
              "      <td>48473.0</td>\n",
              "      <td>0</td>\n",
              "      <td>0</td>\n",
              "      <td>15.0</td>\n",
              "      <td>1</td>\n",
              "    </tr>\n",
              "    <tr>\n",
              "      <th>4</th>\n",
              "      <td>06ca8fa8d32c2abdc5b3577d676b3269</td>\n",
              "      <td>win8defender</td>\n",
              "      <td>1.1.15200.1</td>\n",
              "      <td>4.18.1807.18075</td>\n",
              "      <td>1.275.511.0</td>\n",
              "      <td>7</td>\n",
              "      <td>0</td>\n",
              "      <td>47238.0</td>\n",
              "      <td>2.0</td>\n",
              "      <td>1.0</td>\n",
              "      <td>...</td>\n",
              "      <td>IS_GENUINE</td>\n",
              "      <td>OEM:DM</td>\n",
              "      <td>0</td>\n",
              "      <td>Retail</td>\n",
              "      <td>355.0</td>\n",
              "      <td>4343.0</td>\n",
              "      <td>0</td>\n",
              "      <td>1</td>\n",
              "      <td>13.0</td>\n",
              "      <td>1</td>\n",
              "    </tr>\n",
              "  </tbody>\n",
              "</table>\n",
              "<p>5 rows × 61 columns</p>\n",
              "</div>\n",
              "    <div class=\"colab-df-buttons\">\n",
              "\n",
              "  <div class=\"colab-df-container\">\n",
              "    <button class=\"colab-df-convert\" onclick=\"convertToInteractive('df-f52bdccb-b4a5-49d3-9a63-2a726df0c054')\"\n",
              "            title=\"Convert this dataframe to an interactive table.\"\n",
              "            style=\"display:none;\">\n",
              "\n",
              "  <svg xmlns=\"http://www.w3.org/2000/svg\" height=\"24px\" viewBox=\"0 -960 960 960\">\n",
              "    <path d=\"M120-120v-720h720v720H120Zm60-500h600v-160H180v160Zm220 220h160v-160H400v160Zm0 220h160v-160H400v160ZM180-400h160v-160H180v160Zm440 0h160v-160H620v160ZM180-180h160v-160H180v160Zm440 0h160v-160H620v160Z\"/>\n",
              "  </svg>\n",
              "    </button>\n",
              "\n",
              "  <style>\n",
              "    .colab-df-container {\n",
              "      display:flex;\n",
              "      gap: 12px;\n",
              "    }\n",
              "\n",
              "    .colab-df-convert {\n",
              "      background-color: #E8F0FE;\n",
              "      border: none;\n",
              "      border-radius: 50%;\n",
              "      cursor: pointer;\n",
              "      display: none;\n",
              "      fill: #1967D2;\n",
              "      height: 32px;\n",
              "      padding: 0 0 0 0;\n",
              "      width: 32px;\n",
              "    }\n",
              "\n",
              "    .colab-df-convert:hover {\n",
              "      background-color: #E2EBFA;\n",
              "      box-shadow: 0px 1px 2px rgba(60, 64, 67, 0.3), 0px 1px 3px 1px rgba(60, 64, 67, 0.15);\n",
              "      fill: #174EA6;\n",
              "    }\n",
              "\n",
              "    .colab-df-buttons div {\n",
              "      margin-bottom: 4px;\n",
              "    }\n",
              "\n",
              "    [theme=dark] .colab-df-convert {\n",
              "      background-color: #3B4455;\n",
              "      fill: #D2E3FC;\n",
              "    }\n",
              "\n",
              "    [theme=dark] .colab-df-convert:hover {\n",
              "      background-color: #434B5C;\n",
              "      box-shadow: 0px 1px 3px 1px rgba(0, 0, 0, 0.15);\n",
              "      filter: drop-shadow(0px 1px 2px rgba(0, 0, 0, 0.3));\n",
              "      fill: #FFFFFF;\n",
              "    }\n",
              "  </style>\n",
              "\n",
              "    <script>\n",
              "      const buttonEl =\n",
              "        document.querySelector('#df-f52bdccb-b4a5-49d3-9a63-2a726df0c054 button.colab-df-convert');\n",
              "      buttonEl.style.display =\n",
              "        google.colab.kernel.accessAllowed ? 'block' : 'none';\n",
              "\n",
              "      async function convertToInteractive(key) {\n",
              "        const element = document.querySelector('#df-f52bdccb-b4a5-49d3-9a63-2a726df0c054');\n",
              "        const dataTable =\n",
              "          await google.colab.kernel.invokeFunction('convertToInteractive',\n",
              "                                                    [key], {});\n",
              "        if (!dataTable) return;\n",
              "\n",
              "        const docLinkHtml = 'Like what you see? Visit the ' +\n",
              "          '<a target=\"_blank\" href=https://colab.research.google.com/notebooks/data_table.ipynb>data table notebook</a>'\n",
              "          + ' to learn more about interactive tables.';\n",
              "        element.innerHTML = '';\n",
              "        dataTable['output_type'] = 'display_data';\n",
              "        await google.colab.output.renderOutput(dataTable, element);\n",
              "        const docLink = document.createElement('div');\n",
              "        docLink.innerHTML = docLinkHtml;\n",
              "        element.appendChild(docLink);\n",
              "      }\n",
              "    </script>\n",
              "  </div>\n",
              "\n",
              "\n",
              "<div id=\"df-2b8372ca-b380-441f-8dc8-44e83ad3e7e5\">\n",
              "  <button class=\"colab-df-quickchart\" onclick=\"quickchart('df-2b8372ca-b380-441f-8dc8-44e83ad3e7e5')\"\n",
              "            title=\"Suggest charts\"\n",
              "            style=\"display:none;\">\n",
              "\n",
              "<svg xmlns=\"http://www.w3.org/2000/svg\" height=\"24px\"viewBox=\"0 0 24 24\"\n",
              "     width=\"24px\">\n",
              "    <g>\n",
              "        <path d=\"M19 3H5c-1.1 0-2 .9-2 2v14c0 1.1.9 2 2 2h14c1.1 0 2-.9 2-2V5c0-1.1-.9-2-2-2zM9 17H7v-7h2v7zm4 0h-2V7h2v10zm4 0h-2v-4h2v4z\"/>\n",
              "    </g>\n",
              "</svg>\n",
              "  </button>\n",
              "\n",
              "<style>\n",
              "  .colab-df-quickchart {\n",
              "      --bg-color: #E8F0FE;\n",
              "      --fill-color: #1967D2;\n",
              "      --hover-bg-color: #E2EBFA;\n",
              "      --hover-fill-color: #174EA6;\n",
              "      --disabled-fill-color: #AAA;\n",
              "      --disabled-bg-color: #DDD;\n",
              "  }\n",
              "\n",
              "  [theme=dark] .colab-df-quickchart {\n",
              "      --bg-color: #3B4455;\n",
              "      --fill-color: #D2E3FC;\n",
              "      --hover-bg-color: #434B5C;\n",
              "      --hover-fill-color: #FFFFFF;\n",
              "      --disabled-bg-color: #3B4455;\n",
              "      --disabled-fill-color: #666;\n",
              "  }\n",
              "\n",
              "  .colab-df-quickchart {\n",
              "    background-color: var(--bg-color);\n",
              "    border: none;\n",
              "    border-radius: 50%;\n",
              "    cursor: pointer;\n",
              "    display: none;\n",
              "    fill: var(--fill-color);\n",
              "    height: 32px;\n",
              "    padding: 0;\n",
              "    width: 32px;\n",
              "  }\n",
              "\n",
              "  .colab-df-quickchart:hover {\n",
              "    background-color: var(--hover-bg-color);\n",
              "    box-shadow: 0 1px 2px rgba(60, 64, 67, 0.3), 0 1px 3px 1px rgba(60, 64, 67, 0.15);\n",
              "    fill: var(--button-hover-fill-color);\n",
              "  }\n",
              "\n",
              "  .colab-df-quickchart-complete:disabled,\n",
              "  .colab-df-quickchart-complete:disabled:hover {\n",
              "    background-color: var(--disabled-bg-color);\n",
              "    fill: var(--disabled-fill-color);\n",
              "    box-shadow: none;\n",
              "  }\n",
              "\n",
              "  .colab-df-spinner {\n",
              "    border: 2px solid var(--fill-color);\n",
              "    border-color: transparent;\n",
              "    border-bottom-color: var(--fill-color);\n",
              "    animation:\n",
              "      spin 1s steps(1) infinite;\n",
              "  }\n",
              "\n",
              "  @keyframes spin {\n",
              "    0% {\n",
              "      border-color: transparent;\n",
              "      border-bottom-color: var(--fill-color);\n",
              "      border-left-color: var(--fill-color);\n",
              "    }\n",
              "    20% {\n",
              "      border-color: transparent;\n",
              "      border-left-color: var(--fill-color);\n",
              "      border-top-color: var(--fill-color);\n",
              "    }\n",
              "    30% {\n",
              "      border-color: transparent;\n",
              "      border-left-color: var(--fill-color);\n",
              "      border-top-color: var(--fill-color);\n",
              "      border-right-color: var(--fill-color);\n",
              "    }\n",
              "    40% {\n",
              "      border-color: transparent;\n",
              "      border-right-color: var(--fill-color);\n",
              "      border-top-color: var(--fill-color);\n",
              "    }\n",
              "    60% {\n",
              "      border-color: transparent;\n",
              "      border-right-color: var(--fill-color);\n",
              "    }\n",
              "    80% {\n",
              "      border-color: transparent;\n",
              "      border-right-color: var(--fill-color);\n",
              "      border-bottom-color: var(--fill-color);\n",
              "    }\n",
              "    90% {\n",
              "      border-color: transparent;\n",
              "      border-bottom-color: var(--fill-color);\n",
              "    }\n",
              "  }\n",
              "</style>\n",
              "\n",
              "  <script>\n",
              "    async function quickchart(key) {\n",
              "      const quickchartButtonEl =\n",
              "        document.querySelector('#' + key + ' button');\n",
              "      quickchartButtonEl.disabled = true;  // To prevent multiple clicks.\n",
              "      quickchartButtonEl.classList.add('colab-df-spinner');\n",
              "      try {\n",
              "        const charts = await google.colab.kernel.invokeFunction(\n",
              "            'suggestCharts', [key], {});\n",
              "      } catch (error) {\n",
              "        console.error('Error during call to suggestCharts:', error);\n",
              "      }\n",
              "      quickchartButtonEl.classList.remove('colab-df-spinner');\n",
              "      quickchartButtonEl.classList.add('colab-df-quickchart-complete');\n",
              "    }\n",
              "    (() => {\n",
              "      let quickchartButtonEl =\n",
              "        document.querySelector('#df-2b8372ca-b380-441f-8dc8-44e83ad3e7e5 button');\n",
              "      quickchartButtonEl.style.display =\n",
              "        google.colab.kernel.accessAllowed ? 'block' : 'none';\n",
              "    })();\n",
              "  </script>\n",
              "</div>\n",
              "\n",
              "    </div>\n",
              "  </div>\n"
            ],
            "application/vnd.google.colaboratory.intrinsic+json": {
              "type": "dataframe",
              "variable_name": "train_df"
            }
          },
          "metadata": {},
          "execution_count": 5
        }
      ],
      "source": [
        "train_df = pd.read_csv('Microsoft_condensed.csv',usecols=lambda x: x not in columns_to_ignore,\n",
        "    dtype=column_data_types\n",
        ")\n",
        "train_df.head()"
      ]
    },
    {
      "cell_type": "code",
      "execution_count": null,
      "metadata": {
        "id": "j3EexdHlXzIr"
      },
      "outputs": [],
      "source": [
        "from sklearn.preprocessing import StandardScaler, OneHotEncoder\n",
        "from sklearn.compose import ColumnTransformer\n",
        "from sklearn.pipeline import Pipeline\n",
        "from sklearn.impute import SimpleImputer\n",
        "\n",
        "X = train_df.drop(['HasDetections', 'MachineIdentifier'], axis=1)\n",
        "y = train_df['HasDetections']\n",
        "\n",
        "categorical_cols = X.select_dtypes(include=['object']).columns\n",
        "numerical_cols = X.select_dtypes(include=['int64', 'float64']).columns\n",
        "\n",
        "# Preprocessing for numerical data\n",
        "numerical_transformer = Pipeline(steps=[\n",
        "    ('imputer', SimpleImputer(strategy='median')),\n",
        "    ('scaler', StandardScaler())\n",
        "])\n",
        "\n",
        "# Preprocessing for categorical data\n",
        "categorical_transformer = Pipeline(steps=[\n",
        "    ('imputer', SimpleImputer(strategy='constant', fill_value='missing')),\n",
        "    ('onehot', OneHotEncoder(handle_unknown='ignore'))\n",
        "])\n",
        "\n",
        "# Bundle preprocessing for numerical and categorical data\n",
        "preprocessor = ColumnTransformer(\n",
        "    transformers=[\n",
        "        ('num', numerical_transformer, numerical_cols),\n",
        "        ('cat', categorical_transformer, categorical_cols)\n",
        "    ])"
      ]
    },
    {
      "cell_type": "code",
      "execution_count": null,
      "metadata": {
        "colab": {
          "base_uri": "https://localhost:8080/"
        },
        "id": "qcTjLYfbUWia",
        "outputId": "6ae450bb-91c6-482a-bd80-842dfc4c4c27"
      },
      "outputs": [
        {
          "output_type": "execute_result",
          "data": {
            "text/plain": [
              "MachineIdentifier                    object\n",
              "ProductName                          object\n",
              "EngineVersion                        object\n",
              "AppVersion                           object\n",
              "AvSigVersion                         object\n",
              "                                     ...   \n",
              "Census_FirmwareVersionIdentifier    float64\n",
              "Census_IsPenCapable                    Int8\n",
              "Wdft_IsGamer                           Int8\n",
              "Wdft_RegionIdentifier               float64\n",
              "HasDetections                         int64\n",
              "Length: 61, dtype: object"
            ]
          },
          "metadata": {},
          "execution_count": 7
        }
      ],
      "source": [
        "int16_columns = train_df.select_dtypes(include=['Int16']).columns\n",
        "\n",
        "# Convert these columns to float\n",
        "train_df[int16_columns] = train_df[int16_columns].astype(float)\n",
        "train_df.dtypes"
      ]
    },
    {
      "cell_type": "code",
      "execution_count": null,
      "metadata": {
        "id": "opBwMt7cUbo0"
      },
      "outputs": [],
      "source": [
        "#train_df.drop(columns = ['MachineIdentifier'], inplace = True)"
      ]
    },
    {
      "cell_type": "code",
      "execution_count": null,
      "metadata": {
        "colab": {
          "base_uri": "https://localhost:8080/",
          "height": 122
        },
        "id": "60TdBKoTUdkE",
        "outputId": "c38dbdab-ae0b-409e-e706-00f8b1b3a795"
      },
      "outputs": [
        {
          "output_type": "execute_result",
          "data": {
            "text/plain": [
              "\"def categorical_preprocessing(df):\\n    temp = df.copy()\\n\\n    cols = temp.select_dtypes(include = [object]).columns.tolist()\\n    temp[cols] = temp[cols].astype(str).apply(lambda x: x.str.lower().apply(sys.intern))\\n\\n    os_build_lab_cat = 'OsBuildLab'\\n    if os_build_lab_cat in temp.columns:\\n        os_build_lab_df = temp[os_build_lab_cat].str.split(pat = '.', n = 5, expand = True)\\n        os_build_lab_df = os_build_lab_df.astype(str).apply(lambda x: x.str.lower().apply(sys.intern))\\n        os_build_lab_df = os_build_lab_df.add_prefix(os_build_lab_cat + '_')\\n\\n        temp = pd.concat([temp, os_build_lab_df], axis = 1)\\n        temp = temp.drop(columns = os_build_lab_cat)\\n\\n    smart_screen_cat = 'SmartScreen'\\n    if smart_screen_cat in temp.columns:\\n        temp.loc[temp[smart_screen_cat] == 'promt', smart_screen_cat] = 'prompt'\\n        temp.loc[temp[smart_screen_cat] == '00000000', smart_screen_cat] = '0'\\n        temp[smart_screen_cat] = temp[smart_screen_cat].astype(str).apply(sys.intern)\\n\\n    disk_type_cat = 'Census_PrimaryDiskTypeName'\\n    if disk_type_cat in temp.columns:\\n        disk_types = ['HDD', 'SSD']\\n        temp.loc[~temp[disk_type_cat].isin(disk_types), disk_type_cat] == 'na'\\n        temp[disk_type_cat] = temp[disk_type_cat].astype(str).apply(sys.intern)\\n\\n    role_name_cat = 'Census_PowerPlatformRoleName'\\n    if role_name_cat in temp.columns:\\n        na_types = ['unspecified', 'unknown', np.nan]\\n        temp.loc[temp[role_name_cat].isin(na_types), role_name_cat] == 'na'\\n        temp[role_name_cat] = temp[role_name_cat].astype(str).apply(sys.intern)\\n\\n    return temp\""
            ],
            "application/vnd.google.colaboratory.intrinsic+json": {
              "type": "string"
            }
          },
          "metadata": {},
          "execution_count": 9
        }
      ],
      "source": [
        "'''def categorical_preprocessing(df):\n",
        "    temp = df.copy()\n",
        "\n",
        "    cols = temp.select_dtypes(include = [object]).columns.tolist()\n",
        "    temp[cols] = temp[cols].astype(str).apply(lambda x: x.str.lower().apply(sys.intern))\n",
        "\n",
        "    os_build_lab_cat = 'OsBuildLab'\n",
        "    if os_build_lab_cat in temp.columns:\n",
        "        os_build_lab_df = temp[os_build_lab_cat].str.split(pat = '.', n = 5, expand = True)\n",
        "        os_build_lab_df = os_build_lab_df.astype(str).apply(lambda x: x.str.lower().apply(sys.intern))\n",
        "        os_build_lab_df = os_build_lab_df.add_prefix(os_build_lab_cat + '_')\n",
        "\n",
        "        temp = pd.concat([temp, os_build_lab_df], axis = 1)\n",
        "        temp = temp.drop(columns = os_build_lab_cat)\n",
        "\n",
        "    smart_screen_cat = 'SmartScreen'\n",
        "    if smart_screen_cat in temp.columns:\n",
        "        temp.loc[temp[smart_screen_cat] == 'promt', smart_screen_cat] = 'prompt'\n",
        "        temp.loc[temp[smart_screen_cat] == '00000000', smart_screen_cat] = '0'\n",
        "        temp[smart_screen_cat] = temp[smart_screen_cat].astype(str).apply(sys.intern)\n",
        "\n",
        "    disk_type_cat = 'Census_PrimaryDiskTypeName'\n",
        "    if disk_type_cat in temp.columns:\n",
        "        disk_types = ['HDD', 'SSD']\n",
        "        temp.loc[~temp[disk_type_cat].isin(disk_types), disk_type_cat] == 'na'\n",
        "        temp[disk_type_cat] = temp[disk_type_cat].astype(str).apply(sys.intern)\n",
        "\n",
        "    role_name_cat = 'Census_PowerPlatformRoleName'\n",
        "    if role_name_cat in temp.columns:\n",
        "        na_types = ['unspecified', 'unknown', np.nan]\n",
        "        temp.loc[temp[role_name_cat].isin(na_types), role_name_cat] == 'na'\n",
        "        temp[role_name_cat] = temp[role_name_cat].astype(str).apply(sys.intern)\n",
        "\n",
        "    return temp'''"
      ]
    },
    {
      "cell_type": "code",
      "execution_count": null,
      "metadata": {
        "colab": {
          "base_uri": "https://localhost:8080/",
          "height": 35
        },
        "id": "yl3gpj8eUfd8",
        "outputId": "642200a2-f4f7-4458-8013-5f8e0a8a6bf1"
      },
      "outputs": [
        {
          "output_type": "execute_result",
          "data": {
            "text/plain": [
              "'train_df = categorical_preprocessing(train_df)'"
            ],
            "application/vnd.google.colaboratory.intrinsic+json": {
              "type": "string"
            }
          },
          "metadata": {},
          "execution_count": 10
        }
      ],
      "source": [
        "'''train_df = categorical_preprocessing(train_df)'''\n"
      ]
    },
    {
      "cell_type": "code",
      "execution_count": null,
      "metadata": {
        "colab": {
          "base_uri": "https://localhost:8080/",
          "height": 35
        },
        "id": "D27cGsv1UhKi",
        "outputId": "5bbf9c87-ac22-4140-e52b-245c7d9fd8b9"
      },
      "outputs": [
        {
          "output_type": "execute_result",
          "data": {
            "text/plain": [
              "\"label_column = 'HasDetections'\\ntrain_df.drop_duplicates(inplace = True)\\ny = train_df.pop(label_column)\""
            ],
            "application/vnd.google.colaboratory.intrinsic+json": {
              "type": "string"
            }
          },
          "metadata": {},
          "execution_count": 11
        }
      ],
      "source": [
        "'''label_column = 'HasDetections'\n",
        "train_df.drop_duplicates(inplace = True)\n",
        "y = train_df.pop(label_column)'''"
      ]
    },
    {
      "cell_type": "code",
      "execution_count": null,
      "metadata": {
        "id": "eCgYg4v2Uu2w"
      },
      "outputs": [],
      "source": [
        "X_train, X_test, y_train, y_test = train_test_split(train_df, y, test_size=0.2, random_state=42)"
      ]
    },
    {
      "cell_type": "code",
      "execution_count": null,
      "metadata": {
        "colab": {
          "base_uri": "https://localhost:8080/",
          "height": 578
        },
        "id": "Wb-MC6uJcnHK",
        "outputId": "6bc3909d-e794-487d-82dd-1832022077cf"
      },
      "outputs": [
        {
          "output_type": "stream",
          "name": "stdout",
          "text": [
            "Iteration 1, loss = 0.63607970\n",
            "Validation score: 0.630563\n",
            "Iteration 2, loss = 0.62276807\n",
            "Validation score: 0.633387\n",
            "Iteration 3, loss = 0.61340268\n",
            "Validation score: 0.631725\n",
            "Iteration 4, loss = 0.60150761\n",
            "Validation score: 0.627413\n",
            "Iteration 5, loss = 0.58655580\n",
            "Validation score: 0.627062\n",
            "Iteration 6, loss = 0.56843645\n",
            "Validation score: 0.621363\n",
            "Iteration 7, loss = 0.54904088\n",
            "Validation score: 0.616513\n",
            "Iteration 8, loss = 0.52969739\n",
            "Validation score: 0.619812\n",
            "Iteration 9, loss = 0.51102726\n",
            "Validation score: 0.611875\n",
            "Iteration 10, loss = 0.49408149\n",
            "Validation score: 0.609137\n",
            "Iteration 11, loss = 0.47876094\n",
            "Validation score: 0.604213\n",
            "Iteration 12, loss = 0.46408648\n",
            "Validation score: 0.609313\n",
            "Iteration 13, loss = 0.45227438\n",
            "Validation score: 0.603500\n",
            "Validation score did not improve more than tol=0.000100 for 10 consecutive epochs. Stopping.\n"
          ]
        },
        {
          "output_type": "execute_result",
          "data": {
            "text/plain": [
              "MLPClassifier(early_stopping=True, hidden_layer_sizes=(128, 64, 32),\n",
              "              max_iter=25, random_state=42, validation_fraction=0.2,\n",
              "              verbose=True)"
            ],
            "text/html": [
              "<style>#sk-container-id-1 {color: black;background-color: white;}#sk-container-id-1 pre{padding: 0;}#sk-container-id-1 div.sk-toggleable {background-color: white;}#sk-container-id-1 label.sk-toggleable__label {cursor: pointer;display: block;width: 100%;margin-bottom: 0;padding: 0.3em;box-sizing: border-box;text-align: center;}#sk-container-id-1 label.sk-toggleable__label-arrow:before {content: \"▸\";float: left;margin-right: 0.25em;color: #696969;}#sk-container-id-1 label.sk-toggleable__label-arrow:hover:before {color: black;}#sk-container-id-1 div.sk-estimator:hover label.sk-toggleable__label-arrow:before {color: black;}#sk-container-id-1 div.sk-toggleable__content {max-height: 0;max-width: 0;overflow: hidden;text-align: left;background-color: #f0f8ff;}#sk-container-id-1 div.sk-toggleable__content pre {margin: 0.2em;color: black;border-radius: 0.25em;background-color: #f0f8ff;}#sk-container-id-1 input.sk-toggleable__control:checked~div.sk-toggleable__content {max-height: 200px;max-width: 100%;overflow: auto;}#sk-container-id-1 input.sk-toggleable__control:checked~label.sk-toggleable__label-arrow:before {content: \"▾\";}#sk-container-id-1 div.sk-estimator input.sk-toggleable__control:checked~label.sk-toggleable__label {background-color: #d4ebff;}#sk-container-id-1 div.sk-label input.sk-toggleable__control:checked~label.sk-toggleable__label {background-color: #d4ebff;}#sk-container-id-1 input.sk-hidden--visually {border: 0;clip: rect(1px 1px 1px 1px);clip: rect(1px, 1px, 1px, 1px);height: 1px;margin: -1px;overflow: hidden;padding: 0;position: absolute;width: 1px;}#sk-container-id-1 div.sk-estimator {font-family: monospace;background-color: #f0f8ff;border: 1px dotted black;border-radius: 0.25em;box-sizing: border-box;margin-bottom: 0.5em;}#sk-container-id-1 div.sk-estimator:hover {background-color: #d4ebff;}#sk-container-id-1 div.sk-parallel-item::after {content: \"\";width: 100%;border-bottom: 1px solid gray;flex-grow: 1;}#sk-container-id-1 div.sk-label:hover label.sk-toggleable__label {background-color: #d4ebff;}#sk-container-id-1 div.sk-serial::before {content: \"\";position: absolute;border-left: 1px solid gray;box-sizing: border-box;top: 0;bottom: 0;left: 50%;z-index: 0;}#sk-container-id-1 div.sk-serial {display: flex;flex-direction: column;align-items: center;background-color: white;padding-right: 0.2em;padding-left: 0.2em;position: relative;}#sk-container-id-1 div.sk-item {position: relative;z-index: 1;}#sk-container-id-1 div.sk-parallel {display: flex;align-items: stretch;justify-content: center;background-color: white;position: relative;}#sk-container-id-1 div.sk-item::before, #sk-container-id-1 div.sk-parallel-item::before {content: \"\";position: absolute;border-left: 1px solid gray;box-sizing: border-box;top: 0;bottom: 0;left: 50%;z-index: -1;}#sk-container-id-1 div.sk-parallel-item {display: flex;flex-direction: column;z-index: 1;position: relative;background-color: white;}#sk-container-id-1 div.sk-parallel-item:first-child::after {align-self: flex-end;width: 50%;}#sk-container-id-1 div.sk-parallel-item:last-child::after {align-self: flex-start;width: 50%;}#sk-container-id-1 div.sk-parallel-item:only-child::after {width: 0;}#sk-container-id-1 div.sk-dashed-wrapped {border: 1px dashed gray;margin: 0 0.4em 0.5em 0.4em;box-sizing: border-box;padding-bottom: 0.4em;background-color: white;}#sk-container-id-1 div.sk-label label {font-family: monospace;font-weight: bold;display: inline-block;line-height: 1.2em;}#sk-container-id-1 div.sk-label-container {text-align: center;}#sk-container-id-1 div.sk-container {/* jupyter's `normalize.less` sets `[hidden] { display: none; }` but bootstrap.min.css set `[hidden] { display: none !important; }` so we also need the `!important` here to be able to override the default hidden behavior on the sphinx rendered scikit-learn.org. See: https://github.com/scikit-learn/scikit-learn/issues/21755 */display: inline-block !important;position: relative;}#sk-container-id-1 div.sk-text-repr-fallback {display: none;}</style><div id=\"sk-container-id-1\" class=\"sk-top-container\"><div class=\"sk-text-repr-fallback\"><pre>MLPClassifier(early_stopping=True, hidden_layer_sizes=(128, 64, 32),\n",
              "              max_iter=25, random_state=42, validation_fraction=0.2,\n",
              "              verbose=True)</pre><b>In a Jupyter environment, please rerun this cell to show the HTML representation or trust the notebook. <br />On GitHub, the HTML representation is unable to render, please try loading this page with nbviewer.org.</b></div><div class=\"sk-container\" hidden><div class=\"sk-item\"><div class=\"sk-estimator sk-toggleable\"><input class=\"sk-toggleable__control sk-hidden--visually\" id=\"sk-estimator-id-1\" type=\"checkbox\" checked><label for=\"sk-estimator-id-1\" class=\"sk-toggleable__label sk-toggleable__label-arrow\">MLPClassifier</label><div class=\"sk-toggleable__content\"><pre>MLPClassifier(early_stopping=True, hidden_layer_sizes=(128, 64, 32),\n",
              "              max_iter=25, random_state=42, validation_fraction=0.2,\n",
              "              verbose=True)</pre></div></div></div></div></div>"
            ]
          },
          "metadata": {},
          "execution_count": 13
        }
      ],
      "source": [
        "from sklearn.neural_network import MLPClassifier\n",
        "X_train_preprocessed = preprocessor.fit_transform(X_train)\n",
        "X_test_preprocessed = preprocessor.transform(X_test)\n",
        "\n",
        "mlp = MLPClassifier(\n",
        "    hidden_layer_sizes=(128, 64, 32),   # Three hidden layers with 128, 64, and 32 neurons\n",
        "    activation='relu',                 # Activation function for the hidden layers\n",
        "    solver='adam',                     # Optimizer\n",
        "    alpha=0.0001,                      # L2 penalty (regularization term) parameter\n",
        "    batch_size='auto',                 # Size of minibatches for stochastic optimizers\n",
        "    learning_rate='constant',          # Learning rate schedule for weight updates\n",
        "    learning_rate_init=0.001,          # Initial learning rate used\n",
        "    max_iter=25,                      # Maximum number of iterations\n",
        "    shuffle=True,                      # Whether to shuffle samples in each iteration\n",
        "    random_state=42,                   # Random state for reproducibility\n",
        "    tol=0.0001,                        # Tolerance for the optimization\n",
        "    verbose=True,                      # Print progress messages to stdout\n",
        "    early_stopping=True,               # Whether to use early stopping to stop training when\n",
        "    validation_fraction=0.2            # Proportion of training data to set aside\n",
        ")\n",
        "\n",
        "# Train the neural network using MLPClassifier\n",
        "#mlp = MLPClassifier(hidden_layer_sizes=(128, 64, 32), max_iter=100, random_state=42)\n",
        "mlp.fit(X_train_preprocessed, y_train)"
      ]
    },
    {
      "cell_type": "code",
      "execution_count": null,
      "metadata": {
        "colab": {
          "base_uri": "https://localhost:8080/"
        },
        "id": "5-VkNMmOo-4O",
        "outputId": "0c360f34-8d7b-4913-b766-c3349df8e8d7"
      },
      "outputs": [
        {
          "output_type": "execute_result",
          "data": {
            "text/plain": [
              "0.63488"
            ]
          },
          "metadata": {},
          "execution_count": 14
        }
      ],
      "source": [
        "from sklearn.metrics import accuracy_score\n",
        "y_pred = mlp.predict(X_test_preprocessed)\n",
        "\n",
        "# Calculate the accuracy\n",
        "accuracy = accuracy_score(y_test, y_pred)\n",
        "accuracy"
      ]
    },
    {
      "cell_type": "code",
      "execution_count": null,
      "metadata": {
        "id": "PfjoeQbmp198"
      },
      "outputs": [],
      "source": [
        "#pip install torch"
      ]
    },
    {
      "cell_type": "code",
      "execution_count": null,
      "metadata": {
        "id": "HEHqtKf_paTs",
        "colab": {
          "base_uri": "https://localhost:8080/",
          "height": 87
        },
        "outputId": "b0f31376-a40a-4642-d768-13eef46d49d6"
      },
      "outputs": [
        {
          "output_type": "execute_result",
          "data": {
            "text/plain": [
              "'import torch\\nX_train_preprocessed = preprocessor.fit_transform(X_train)\\nX_test_preprocessed = preprocessor.transform(X_test)\\n# Convert to PyTorch tensors\\nX_train_tensor = torch.tensor(X_train_preprocessed, dtype=torch.float32).shape[0]\\nX_test_tensor = torch.tensor(X_test_preprocessed, dtype=torch.float32).shape[0]\\ny_train_tensor = torch.tensor(y_train.values, dtype=torch.float32)\\ny_test_tensor = torch.tensor(y_test.values, dtype=torch.float32)\\n\\n# Create DataLoader\\ntrain_dataset = TensorDataset(X_train_tensor, y_train_tensor)\\ntest_dataset = TensorDataset(X_test_tensor, y_test_tensor)\\n\\ntrain_loader = DataLoader(train_dataset, batch_size=32, shuffle=True)\\ntest_loader = DataLoader(test_dataset, batch_size=32, shuffle=False)'"
            ],
            "application/vnd.google.colaboratory.intrinsic+json": {
              "type": "string"
            }
          },
          "metadata": {},
          "execution_count": 16
        }
      ],
      "source": [
        "'''import torch\n",
        "X_train_preprocessed = preprocessor.fit_transform(X_train)\n",
        "X_test_preprocessed = preprocessor.transform(X_test)\n",
        "# Convert to PyTorch tensors\n",
        "X_train_tensor = torch.tensor(X_train_preprocessed, dtype=torch.float32).shape[0]\n",
        "X_test_tensor = torch.tensor(X_test_preprocessed, dtype=torch.float32).shape[0]\n",
        "y_train_tensor = torch.tensor(y_train.values, dtype=torch.float32)\n",
        "y_test_tensor = torch.tensor(y_test.values, dtype=torch.float32)\n",
        "\n",
        "# Create DataLoader\n",
        "train_dataset = TensorDataset(X_train_tensor, y_train_tensor)\n",
        "test_dataset = TensorDataset(X_test_tensor, y_test_tensor)\n",
        "\n",
        "train_loader = DataLoader(train_dataset, batch_size=32, shuffle=True)\n",
        "test_loader = DataLoader(test_dataset, batch_size=32, shuffle=False)'''"
      ]
    },
    {
      "cell_type": "markdown",
      "metadata": {
        "id": "OSjXtdGnZamr"
      },
      "source": []
    },
    {
      "cell_type": "code",
      "execution_count": null,
      "metadata": {
        "id": "nqcFr-cJXkzq",
        "colab": {
          "base_uri": "https://localhost:8080/",
          "height": 70
        },
        "outputId": "d283cdcf-82b9-4308-e5b5-cc148fcc1a2a"
      },
      "outputs": [
        {
          "output_type": "execute_result",
          "data": {
            "text/plain": [
              "'import tensorflow as tf\\nX_train_preprocessed = preprocessor.fit_transform(X_train).toarray()\\nX_test_preprocessed = preprocessor.transform(X_test).toarray()\\n\\n# Convert to tensors\\nX_train_tensor = tf.convert_to_tensor(X_train_preprocessed, dtype=tf.float32)\\nX_test_tensor = tf.convert_to_tensor(X_test_preprocessed, dtype=tf.float32)\\ny_train_tensor = tf.convert_to_tensor(y_train.values, dtype=tf.float32)\\ny_test_tensor = tf.convert_to_tensor(y_test.values, dtype=tf.float32)'"
            ],
            "application/vnd.google.colaboratory.intrinsic+json": {
              "type": "string"
            }
          },
          "metadata": {},
          "execution_count": 17
        }
      ],
      "source": [
        "'''import tensorflow as tf\n",
        "X_train_preprocessed = preprocessor.fit_transform(X_train).toarray()\n",
        "X_test_preprocessed = preprocessor.transform(X_test).toarray()\n",
        "\n",
        "# Convert to tensors\n",
        "X_train_tensor = tf.convert_to_tensor(X_train_preprocessed, dtype=tf.float32)\n",
        "X_test_tensor = tf.convert_to_tensor(X_test_preprocessed, dtype=tf.float32)\n",
        "y_train_tensor = tf.convert_to_tensor(y_train.values, dtype=tf.float32)\n",
        "y_test_tensor = tf.convert_to_tensor(y_test.values, dtype=tf.float32)'''\n"
      ]
    },
    {
      "cell_type": "code",
      "execution_count": null,
      "metadata": {
        "id": "leXX5kfGUxq1",
        "colab": {
          "base_uri": "https://localhost:8080/",
          "height": 87
        },
        "outputId": "7ab16080-300e-4b19-8a68-1b1da803025d"
      },
      "outputs": [
        {
          "output_type": "execute_result",
          "data": {
            "text/plain": [
              "\"import tensorflow as tf\\nfrom tensorflow.keras.models import Sequential\\nfrom tensorflow.keras.layers import Dense, Dropout\\n\\nmodel = Sequential([\\n    Dense(128, activation='relu', input_shape=(X_train.shape[1],)),\\n    Dropout(0.3),\\n    Dense(64, activation='relu'),\\n    Dropout(0.3),\\n    Dense(32, activation='relu'),\\n    Dropout(0.3),\\n    Dense(1, activation='sigmoid')\\n])\\n\\n# Compile the model\\nmodel.compile(optimizer='adam',\\n              loss='binary_crossentropy',\\n              metrics=['accuracy'])\\n\\n# Train the model\\nhistory = model.fit(X_train, y_train, epochs=20, batch_size=32, validation_split=0.2)\""
            ],
            "application/vnd.google.colaboratory.intrinsic+json": {
              "type": "string"
            }
          },
          "metadata": {},
          "execution_count": 18
        }
      ],
      "source": [
        "'''import tensorflow as tf\n",
        "from tensorflow.keras.models import Sequential\n",
        "from tensorflow.keras.layers import Dense, Dropout\n",
        "\n",
        "model = Sequential([\n",
        "    Dense(128, activation='relu', input_shape=(X_train.shape[1],)),\n",
        "    Dropout(0.3),\n",
        "    Dense(64, activation='relu'),\n",
        "    Dropout(0.3),\n",
        "    Dense(32, activation='relu'),\n",
        "    Dropout(0.3),\n",
        "    Dense(1, activation='sigmoid')\n",
        "])\n",
        "\n",
        "# Compile the model\n",
        "model.compile(optimizer='adam',\n",
        "              loss='binary_crossentropy',\n",
        "              metrics=['accuracy'])\n",
        "\n",
        "# Train the model\n",
        "history = model.fit(X_train, y_train, epochs=20, batch_size=32, validation_split=0.2)'''"
      ]
    },
    {
      "cell_type": "code",
      "execution_count": null,
      "metadata": {
        "id": "VQxnhpxLU1Eb",
        "colab": {
          "base_uri": "https://localhost:8080/",
          "height": 53
        },
        "outputId": "4d24d684-40ad-4963-d9ae-8beb8479acef"
      },
      "outputs": [
        {
          "output_type": "execute_result",
          "data": {
            "text/plain": [
              "'X_train = np.nan_to_num(X_train, nan=0.0, posinf=0.0, neginf=0.0)  # Replace NaN and inf with 0\\ny_train = np.nan_to_num(y_train, nan=0.0, posinf=0.0, neginf=0.0)  # Replace NaN and inf with 0\\n\\n# Ensure X_train is of numeric type\\nX_train = X_train.astype(np.float32)\\n\\nhistory = model.fit(X_train, y_train, epochs=20, batch_size=32, validation_split=0.2)'"
            ],
            "application/vnd.google.colaboratory.intrinsic+json": {
              "type": "string"
            }
          },
          "metadata": {},
          "execution_count": 19
        }
      ],
      "source": [
        "'''X_train = np.nan_to_num(X_train, nan=0.0, posinf=0.0, neginf=0.0)  # Replace NaN and inf with 0\n",
        "y_train = np.nan_to_num(y_train, nan=0.0, posinf=0.0, neginf=0.0)  # Replace NaN and inf with 0\n",
        "\n",
        "# Ensure X_train is of numeric type\n",
        "X_train = X_train.astype(np.float32)\n",
        "\n",
        "history = model.fit(X_train, y_train, epochs=20, batch_size=32, validation_split=0.2)'''"
      ]
    },
    {
      "cell_type": "markdown",
      "metadata": {
        "id": "9zhoweVkKbCW"
      },
      "source": [
        "CNN"
      ]
    },
    {
      "cell_type": "code",
      "execution_count": null,
      "metadata": {
        "id": "zCqr5WVsU6Tj"
      },
      "outputs": [],
      "source": [
        "import torch\n",
        "import torch.nn as nn\n",
        "import torch.optim as optim\n",
        "from torch.utils.data import TensorDataset, DataLoader\n",
        "\n",
        "X_train_dense = X_train_preprocessed.toarray()\n",
        "X_test_dense = X_test_preprocessed.toarray()\n",
        "\n",
        "X_train_tensor = torch.tensor(X_train_dense, dtype=torch.float32)\n",
        "X_test_tensor = torch.tensor(X_test_dense, dtype=torch.float32)\n",
        "y_train_tensor = torch.tensor(y_train.values, dtype=torch.float32)\n",
        "y_test_tensor = torch.tensor(y_test.values, dtype=torch.float32)\n",
        "\n",
        "# Create DataLoader\n",
        "train_dataset = TensorDataset(X_train_tensor, y_train_tensor)\n",
        "test_dataset = TensorDataset(X_test_tensor, y_test_tensor)\n",
        "\n",
        "train_loader = DataLoader(train_dataset, batch_size=32, shuffle=True)\n",
        "test_loader = DataLoader(test_dataset, batch_size=32, shuffle=False)"
      ]
    },
    {
      "cell_type": "code",
      "execution_count": null,
      "metadata": {
        "id": "1YAHdJHWKdhw"
      },
      "outputs": [],
      "source": [
        "class SimpleCNN(nn.Module):\n",
        "    def __init__(self):\n",
        "        super(SimpleCNN, self).__init__()\n",
        "        self.fc1 = nn.Linear(X_train_tensor.shape[1], 128)\n",
        "        self.fc2 = nn.Linear(128, 64)\n",
        "        self.fc3 = nn.Linear(64, 32)\n",
        "        self.fc4 = nn.Linear(32, 1)\n",
        "        self.dropout = nn.Dropout(0.3)\n",
        "\n",
        "    def forward(self, x):\n",
        "        x = torch.relu(self.fc1(x))\n",
        "        x = self.dropout(x)\n",
        "        x = torch.relu(self.fc2(x))\n",
        "        x = self.dropout(x)\n",
        "        x = torch.relu(self.fc3(x))\n",
        "        x = self.dropout(x)\n",
        "        x = torch.sigmoid(self.fc4(x))\n",
        "        return x\n",
        "\n",
        "# Initialize the model, loss function, and optimizer\n",
        "model = SimpleCNN()\n",
        "criterion = nn.BCELoss()\n",
        "optimizer = optim.Adam(model.parameters(), lr=0.001)"
      ]
    },
    {
      "cell_type": "code",
      "execution_count": null,
      "metadata": {
        "colab": {
          "base_uri": "https://localhost:8080/"
        },
        "id": "uMuZEPJiKmSh",
        "outputId": "cc22d293-dfd2-4b26-8e33-accee1f9dd7a"
      },
      "outputs": [
        {
          "output_type": "stream",
          "name": "stdout",
          "text": [
            "Epoch 1/20, Loss: 0.6409\n",
            "Epoch 2/20, Loss: 0.6326\n",
            "Epoch 3/20, Loss: 0.6279\n",
            "Epoch 4/20, Loss: 0.6241\n",
            "Epoch 5/20, Loss: 0.6206\n",
            "Epoch 6/20, Loss: 0.6174\n",
            "Epoch 7/20, Loss: 0.6142\n",
            "Epoch 8/20, Loss: 0.6114\n",
            "Epoch 9/20, Loss: 0.6081\n",
            "Epoch 10/20, Loss: 0.6048\n",
            "Epoch 11/20, Loss: 0.6020\n",
            "Epoch 12/20, Loss: 0.5988\n",
            "Epoch 13/20, Loss: 0.5964\n",
            "Epoch 14/20, Loss: 0.5937\n",
            "Epoch 15/20, Loss: 0.5909\n",
            "Epoch 16/20, Loss: 0.5879\n",
            "Epoch 17/20, Loss: 0.5855\n",
            "Epoch 18/20, Loss: 0.5834\n",
            "Epoch 19/20, Loss: 0.5809\n",
            "Epoch 20/20, Loss: 0.5791\n"
          ]
        }
      ],
      "source": [
        "num_epochs = 20\n",
        "for epoch in range(num_epochs):\n",
        "    model.train()\n",
        "    running_loss = 0.0\n",
        "    for inputs, labels in train_loader:\n",
        "        optimizer.zero_grad()\n",
        "        outputs = model(inputs).squeeze()\n",
        "        loss = criterion(outputs, labels)\n",
        "        loss.backward()\n",
        "        optimizer.step()\n",
        "        running_loss += loss.item() * inputs.size(0)\n",
        "\n",
        "    epoch_loss = running_loss / len(train_loader.dataset)\n",
        "    print(f'Epoch {epoch+1}/{num_epochs}, Loss: {epoch_loss:.4f}')"
      ]
    },
    {
      "cell_type": "code",
      "execution_count": null,
      "metadata": {
        "id": "TavNdNZEKufb",
        "colab": {
          "base_uri": "https://localhost:8080/"
        },
        "outputId": "e88d658a-48cf-445b-cbce-abece7e9bc20"
      },
      "outputs": [
        {
          "output_type": "execute_result",
          "data": {
            "text/plain": [
              "0.62144"
            ]
          },
          "metadata": {},
          "execution_count": 24
        }
      ],
      "source": [
        "model.eval()\n",
        "y_pred = []\n",
        "with torch.no_grad():\n",
        "    for inputs, _ in test_loader:\n",
        "        outputs = model(inputs).squeeze()\n",
        "        y_pred.extend(outputs.tolist())\n",
        "\n",
        "# Convert predictions to binary\n",
        "y_pred = np.round(y_pred)\n",
        "accuracy = (y_pred == y_test_tensor.numpy()).mean()\n",
        "accuracy"
      ]
    },
    {
      "cell_type": "code",
      "source": [],
      "metadata": {
        "id": "UQG7oK7myAAZ"
      },
      "execution_count": null,
      "outputs": []
    }
  ],
  "metadata": {
    "accelerator": "GPU",
    "colab": {
      "gpuType": "L4",
      "machine_shape": "hm",
      "provenance": [],
      "include_colab_link": true
    },
    "kernelspec": {
      "display_name": "Python 3",
      "name": "python3"
    },
    "language_info": {
      "name": "python"
    }
  },
  "nbformat": 4,
  "nbformat_minor": 0
}